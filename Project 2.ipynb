{
 "cells": [
  {
   "cell_type": "code",
   "execution_count": 1,
   "metadata": {},
   "outputs": [
    {
     "name": "stdout",
     "output_type": "stream",
     "text": [
      "Requirement already satisfied: geopy in c:\\users\\latif\\anaconda2\\lib\\site-packages\n"
     ]
    }
   ],
   "source": [
    " !pip install geopy"
   ]
  },
  {
   "cell_type": "code",
   "execution_count": 159,
   "metadata": {
    "collapsed": true
   },
   "outputs": [],
   "source": [
    "import networkx as nx\n",
    "import matplotlib.pyplot as plt\n",
    "\n",
    "from operator import itemgetter\n",
    "import geopy.distance as geo"
   ]
  },
  {
   "cell_type": "markdown",
   "metadata": {},
   "source": [
    "## Loading the Dataset"
   ]
  },
  {
   "cell_type": "code",
   "execution_count": 136,
   "metadata": {
    "collapsed": true
   },
   "outputs": [],
   "source": [
    "def clean_str(line):\n",
    "    invalids = ['\"', '\\n']\n",
    "    for n in invalids:\n",
    "        line = line.replace(n, '')\n",
    "        \n",
    "    return line\n",
    "\n",
    "def extract_data(file_loc, props):\n",
    "    # Read in file\n",
    "    file_obj = open(file_loc, \"r\")\n",
    "    lines = file_obj.readlines()\n",
    "    file_obj.close()\n",
    "    \n",
    "\n",
    "    #Takes the lines that were read in, does a split to create an array, then zips\n",
    "    #with the props to create a 2d array, and then forms a dictionary from that 2d array,\n",
    "    #and returns a list of those dictionaries.\n",
    "    return list(map(lambda x: dict(zip(props, clean_str(x).split(\",\"))), lines))\n",
    "\n",
    "def show_graph(G):\n",
    "    color_map = {'airline': \"#117A65\",\n",
    "             'route': \"#E67E22\",\n",
    "             'source': \"#1aff1a\",\n",
    "             'destination': \"#ff0000\"  \n",
    "            }\n",
    "\n",
    "    nx.draw(G, node_color=[color_map[G.node[node]['node_type']] for node in G], with_labels=True)\n",
    "    plt.show()"
   ]
  },
  {
   "cell_type": "code",
   "execution_count": 147,
   "metadata": {
    "collapsed": true
   },
   "outputs": [],
   "source": [
    "airport_props = [\n",
    "        \"airport_id\",\n",
    "        \"name\",\n",
    "        \"city\",\n",
    "        \"country\",\n",
    "        \"iata\",\n",
    "        \"icao\",\n",
    "        \"lat\",\n",
    "        \"lon\",\n",
    "        \"altitude\",\n",
    "        \"timezone\",\n",
    "        \"dst\",\n",
    "        \"tz_database_time_zone\",\n",
    "        \"type\",\n",
    "        \"source\"\n",
    "]\n",
    "\n",
    "route_props = [\n",
    "        \"airline\",\n",
    "        \"airline_id\",\n",
    "        \"source_airport\",\n",
    "        \"source_airport_id\",\n",
    "        \"destination_airport\",\n",
    "        \"destination_airport_id\",\n",
    "        \"codeshare\",\n",
    "        \"stops\",\n",
    "        \"equipment\"\n",
    "        ]\n",
    "\n",
    "airlines_props = [\n",
    "    \"airline_id\",\n",
    "    \"name\",\n",
    "    \"alias\",\n",
    "    \"iata\",\n",
    "    \"icao\",\n",
    "    \"callsign\",\n",
    "    \"country\",\n",
    "    \"active\"\n",
    "]"
   ]
  },
  {
   "cell_type": "code",
   "execution_count": 148,
   "metadata": {},
   "outputs": [],
   "source": [
    "routes = extract_data(\"./data/routes.dat\", route_props)\n",
    "airlines = extract_data('./data/airlines.dat',airlines_props)\n",
    "airports = extract_data('./data/airports.dat',airport_props)"
   ]
  },
  {
   "cell_type": "markdown",
   "metadata": {},
   "source": [
    "## Bipartite Graph of Airlines and Routes\n",
    "\n",
    "For the first analysis, we are going to build a set of relationships between routes flown by air carriers in the United States, and the routes that they fly. This graph would be useful to find out which route is flown by which airlines or which airlines flies which routes:"
   ]
  },
  {
   "cell_type": "code",
   "execution_count": 149,
   "metadata": {
    "collapsed": true
   },
   "outputs": [],
   "source": [
    "G= nx.Graph()"
   ]
  },
  {
   "cell_type": "code",
   "execution_count": 150,
   "metadata": {},
   "outputs": [],
   "source": [
    "#Transform list of airports into map of airports:\n",
    "airport_map = {}\n",
    "for airport in airports:\n",
    "    airport_map[airport['iata']] = airport"
   ]
  },
  {
   "cell_type": "code",
   "execution_count": 151,
   "metadata": {
    "collapsed": true
   },
   "outputs": [],
   "source": [
    "#Transform list of airlines into a map of jus US airline carriers\n",
    "us_carriers = {}\n",
    "for airline in airlines:\n",
    "    if (airline['country'] == 'United States'):\n",
    "        us_carriers[airline['iata']] = airline\n",
    "        G.add_node(airline['iata'], node_type='airline')"
   ]
  },
  {
   "cell_type": "code",
   "execution_count": 153,
   "metadata": {},
   "outputs": [],
   "source": [
    "for route in routes:\n",
    "    if (route['airline'] in us_carriers) and \\\n",
    "       (route['source_airport'] in airport_map) and \\\n",
    "       (route['destination_airport'] in airport_map):\n",
    "        route_id = route['source_airport']+'->'+route['destination_airport']\n",
    "        G.add_node(route_id, node_type='route', info=route)\n",
    "        G.add_edge(route_id, route['airline'])\n",
    "        "
   ]
  },
  {
   "cell_type": "markdown",
   "metadata": {},
   "source": [
    "Now that we have the graph build out, lets look at a few examples. We'll start with finding all the airlines that fly from Los Angeles International (LAX) to John F. Kenney International (JFK). We see that with a small bit of code, we can find all the airlines that fly that route:"
   ]
  },
  {
   "cell_type": "code",
   "execution_count": 154,
   "metadata": {},
   "outputs": [
    {
     "data": {
      "text/plain": [
       "['American Airlines',\n",
       " 'Delta Air Lines',\n",
       " 'US Airways',\n",
       " 'JetBlue Airways',\n",
       " 'Virgin America',\n",
       " 'United Airlines']"
      ]
     },
     "execution_count": 154,
     "metadata": {},
     "output_type": "execute_result"
    }
   ],
   "source": [
    "[us_carriers[iata]['name'] for iata in list(G['LAX->JFK'])]\n",
    "    "
   ]
  },
  {
   "cell_type": "markdown",
   "metadata": {},
   "source": [
    "We can perform the reverse as well where we can find all the routes flown by a particular airlines. In this example, we will look at all the routes flown by Allegiant Air, which has the IATA code of 'G4':"
   ]
  },
  {
   "cell_type": "code",
   "execution_count": 94,
   "metadata": {},
   "outputs": [
    {
     "data": {
      "text/plain": [
       "['BLI->OAK',\n",
       " 'TYS->FLL',\n",
       " 'FAR->SFB',\n",
       " 'AVP->SFB',\n",
       " 'ATW->AZA',\n",
       " 'SFB->HGR',\n",
       " 'PIE->PBG',\n",
       " 'AVL->FLL',\n",
       " 'COS->LAS',\n",
       " 'LAS->GRI',\n",
       " 'LAS->GRR',\n",
       " 'SFB->CKB',\n",
       " 'SFB->XNA',\n",
       " 'SFB->GRR',\n",
       " 'LAS->RAP',\n",
       " 'AZA->MLI',\n",
       " 'PHF->SFB',\n",
       " 'PIA->AZA',\n",
       " 'LAS->FSD',\n",
       " 'BLV->SFB',\n",
       " 'ABE->PIE',\n",
       " 'GRR->SFB',\n",
       " 'PSP->BLI',\n",
       " 'SFB->PSM',\n",
       " 'SGF->LAS',\n",
       " 'PGD->DSM',\n",
       " 'GSO->PIE',\n",
       " 'AZA->OGD',\n",
       " 'AUS->LAS',\n",
       " 'AZA->STC',\n",
       " 'RST->AZA',\n",
       " 'CPR->LAS',\n",
       " 'SFB->ELM',\n",
       " 'AZA->OAK',\n",
       " 'PVU->AZA',\n",
       " 'PIE->AVL',\n",
       " 'IDA->AZA',\n",
       " 'SBN->PGD',\n",
       " 'PIE->SGF',\n",
       " 'EUG->LAS',\n",
       " 'LAS->BIS',\n",
       " 'GSO->SFB',\n",
       " 'SFB->CVG',\n",
       " 'PIE->ROA',\n",
       " 'FWA->PGD',\n",
       " 'MFE->LAS',\n",
       " 'LAS->CPR',\n",
       " 'LAS->BIL',\n",
       " 'TUL->SFB',\n",
       " 'PGD->AVL',\n",
       " 'OAK->AZA',\n",
       " 'LCK->PIE',\n",
       " 'LAS->FAT',\n",
       " 'LAS->FAR',\n",
       " 'CKB->SFB',\n",
       " 'MOT->AZA',\n",
       " 'PIA->PIE',\n",
       " 'LAS->PIA',\n",
       " 'LAS->SGF',\n",
       " 'AZA->RST',\n",
       " 'SFB->TYS',\n",
       " 'PIE->TOL',\n",
       " 'FLL->LEX',\n",
       " 'MLI->SFB',\n",
       " 'PGD->CID',\n",
       " 'TOL->PGD',\n",
       " 'AZA->FAR',\n",
       " 'PGD->SPI',\n",
       " 'LAS->GJT',\n",
       " 'LAS->CID',\n",
       " 'PIE->MDT',\n",
       " 'SFB->BTV',\n",
       " 'PGD->FWA',\n",
       " 'SFB->TOL',\n",
       " 'PIE->ELM',\n",
       " 'SFB->OKC',\n",
       " 'BIL->LAS',\n",
       " 'ICT->AZA',\n",
       " 'RFD->AZA',\n",
       " 'MLI->AZA',\n",
       " 'SFB->RFD',\n",
       " 'SGF->AZA',\n",
       " 'LAS->DLH',\n",
       " 'PIE->LCK',\n",
       " 'DSM->PGD',\n",
       " 'YNG->MYR',\n",
       " 'PIE->GSO',\n",
       " 'SMX->LAS',\n",
       " 'LEX->FLL',\n",
       " 'PSM->SFB',\n",
       " 'PIE->GSP',\n",
       " 'SFB->ROA',\n",
       " 'FWA->AZA',\n",
       " 'PIE->TRI',\n",
       " 'BMI->SFB',\n",
       " 'LEX->PGD',\n",
       " 'FWA->MYR',\n",
       " 'SGF->PGD',\n",
       " 'AZA->GFK',\n",
       " 'ROA->SFB',\n",
       " 'AZA->BIL',\n",
       " 'SFB->ABE',\n",
       " 'LEX->SFB',\n",
       " 'AZA->FSD',\n",
       " 'GRI->LAS',\n",
       " 'LAX->BLI',\n",
       " 'CID->PIE',\n",
       " 'RFD->LAS',\n",
       " 'LAS->ICT',\n",
       " 'BTV->SFB',\n",
       " 'PGD->SBN',\n",
       " 'MLI->PIE',\n",
       " 'LAS->SCK',\n",
       " 'TOL->PIE',\n",
       " 'AZA->GTF',\n",
       " 'AZA->SGF',\n",
       " 'IDA->LAS',\n",
       " 'YNG->PGD',\n",
       " 'BLI->AZA',\n",
       " 'LAS->BZN',\n",
       " 'MSO->AZA',\n",
       " 'AZA->LAS',\n",
       " 'CHA->SFB',\n",
       " 'PGD->TYS',\n",
       " 'DLH->LAS',\n",
       " 'PIE->TYS',\n",
       " 'SFB->PBG',\n",
       " 'AZA->CID',\n",
       " 'BIL->AZA',\n",
       " 'LAS->BLI',\n",
       " 'GFK->AZA',\n",
       " 'ROA->PIE',\n",
       " 'SFB->ATW',\n",
       " 'IAG->PGD',\n",
       " 'FAR->LAS',\n",
       " 'LAN->SFB',\n",
       " 'PIA->LAS',\n",
       " 'XNA->LAS',\n",
       " 'PBG->FLL',\n",
       " 'AZA->RAP',\n",
       " 'FSD->LAS',\n",
       " 'FWA->SFB',\n",
       " 'FSD->PIE',\n",
       " 'MSO->LAS',\n",
       " 'PIE->ABE',\n",
       " 'SFB->FWA',\n",
       " 'HTS->MYR',\n",
       " 'LAS->MOT',\n",
       " 'CID->PGD',\n",
       " 'PSC->AZA',\n",
       " 'SFB->GFK',\n",
       " 'RFD->SFB',\n",
       " 'CVG->PGD',\n",
       " 'PIE->GRR',\n",
       " 'AZA->FWA',\n",
       " 'PGD->RFD',\n",
       " 'LCK->SFB',\n",
       " 'DSM->SFB',\n",
       " 'PVU->LAX',\n",
       " 'AZA->BLI',\n",
       " 'YNG->PIE',\n",
       " 'SFB->BGR',\n",
       " 'BLI->LAX',\n",
       " 'SFB->BLV',\n",
       " 'LEX->PIE',\n",
       " 'LAS->BOI',\n",
       " 'BLI->LAS',\n",
       " 'ELM->SFB',\n",
       " 'SFB->FAR',\n",
       " 'PIE->MLI',\n",
       " 'LAS->MLI',\n",
       " 'HTS->SFB',\n",
       " 'LAX->MFR',\n",
       " 'LAS->PSC',\n",
       " 'BGR->SFB',\n",
       " 'PGD->ISP',\n",
       " 'LAS->MRY',\n",
       " 'AVL->SFB',\n",
       " 'CVG->SFB',\n",
       " 'ABE->SFB',\n",
       " 'CID->SFB',\n",
       " 'PIE->LEX',\n",
       " 'HNL->LAX',\n",
       " 'EUG->AZA',\n",
       " 'HNL->LAS',\n",
       " 'OGD->AZA',\n",
       " 'GRI->AZA',\n",
       " 'AZA->PIA',\n",
       " 'SFB->TUL',\n",
       " 'PIE->BGR',\n",
       " 'BIS->AZA',\n",
       " 'LAS->RFD',\n",
       " 'ATW->SFB',\n",
       " 'GSP->PIE',\n",
       " 'GFK->LAS',\n",
       " 'SFB->TRI',\n",
       " 'AZA->EUG',\n",
       " 'PIE->CHA',\n",
       " 'TYS->PIE',\n",
       " 'LAS->LRD',\n",
       " 'AZA->DLH',\n",
       " 'SFB->LAN',\n",
       " 'FLL->TYS',\n",
       " 'TRI->PIE',\n",
       " 'PIE->FWA',\n",
       " 'FSD->AZA',\n",
       " 'MRY->LAS',\n",
       " 'AZA->MSO',\n",
       " 'PIE->SYR',\n",
       " 'SBN->PIE',\n",
       " 'PIE->FAR',\n",
       " 'PIE->PIA',\n",
       " 'GSP->PGD',\n",
       " 'SFB->MDT',\n",
       " 'SGF->PIE',\n",
       " 'LAS->GFK',\n",
       " 'TYS->SFB',\n",
       " 'PGD->LEX',\n",
       " 'SFB->FSD',\n",
       " 'PBG->PIE',\n",
       " 'AZA->BZN',\n",
       " 'SFB->PHF',\n",
       " 'LAS->DSM',\n",
       " 'AVL->PIE',\n",
       " 'RAP->LAS',\n",
       " 'SBN->SFB',\n",
       " 'PIE->SWF',\n",
       " 'LAS->FCA',\n",
       " 'PGD->IAG',\n",
       " 'LAS->GTF',\n",
       " 'PGD->TOL',\n",
       " 'MDT->SFB',\n",
       " 'TYS->PGD',\n",
       " 'MYR->FWA',\n",
       " 'STC->AZA',\n",
       " 'LAS->COS',\n",
       " 'ISP->PGD',\n",
       " 'SBN->AZA',\n",
       " 'LAS->IDA',\n",
       " 'SFB->CID',\n",
       " 'PIE->IAG',\n",
       " 'BIS->SFB',\n",
       " 'GRR->AZA',\n",
       " 'LAS->ATW',\n",
       " 'SFB->IAG',\n",
       " 'AZA->PSC',\n",
       " 'GJT->LAS',\n",
       " 'IAG->PIE',\n",
       " 'SFB->BIS',\n",
       " 'SWF->PIE',\n",
       " 'FAR->PIE',\n",
       " 'RAP->AZA',\n",
       " 'ATW->LAS',\n",
       " 'LAX->EUG',\n",
       " 'ABE->MYR',\n",
       " 'CID->LAS',\n",
       " 'PGD->YNG',\n",
       " 'GSP->SFB',\n",
       " 'GSP->FLL',\n",
       " 'SFB->LEX',\n",
       " 'PIE->FSD',\n",
       " 'MOT->LAS',\n",
       " 'AZA->ATW',\n",
       " 'LAS->AZA',\n",
       " 'SFB->GSP',\n",
       " 'LAS->HNL',\n",
       " 'OAK->EUG',\n",
       " 'SFB->GSO',\n",
       " 'SHV->LAS',\n",
       " 'MLI->LAS',\n",
       " 'FLL->PBG',\n",
       " 'PGD->CVG',\n",
       " 'MYR->YNG',\n",
       " 'PIE->RFD',\n",
       " 'PIA->PGD',\n",
       " 'LAS->SHV',\n",
       " 'SGF->SFB',\n",
       " 'PIE->YNG',\n",
       " 'SYR->PIE',\n",
       " 'BGR->PIE',\n",
       " 'PIE->CID',\n",
       " 'MYR->ABE',\n",
       " 'AZA->IDA',\n",
       " 'DSM->LAS',\n",
       " 'AZA->BIS',\n",
       " 'SFB->SBN',\n",
       " 'EUG->LAX',\n",
       " 'YNG->SFB',\n",
       " 'BZN->AZA',\n",
       " 'MFR->LAX',\n",
       " 'DSM->PIE',\n",
       " 'MFR->LAS',\n",
       " 'BOI->LAS',\n",
       " 'SFB->BMI',\n",
       " 'SFB->YNG',\n",
       " 'LAS->MSO',\n",
       " 'SFB->LIT',\n",
       " 'HGR->SFB',\n",
       " 'BIS->LAS',\n",
       " 'PBG->SFB',\n",
       " 'OWB->SFB',\n",
       " 'PGD->GSP',\n",
       " 'BLI->SAN',\n",
       " 'MDT->PIE',\n",
       " 'SFB->HTS',\n",
       " 'PGD->SGF',\n",
       " 'LAS->XNA',\n",
       " 'FLL->AVL',\n",
       " 'XNA->SFB',\n",
       " 'AVL->PGD',\n",
       " 'SAN->BLI',\n",
       " 'BLI->PSP',\n",
       " 'AZA->MOT',\n",
       " 'SFB->MLI',\n",
       " 'TRI->SFB',\n",
       " 'EUG->OAK',\n",
       " 'LAS->RNO',\n",
       " 'DLH->AZA',\n",
       " 'PSC->LAS',\n",
       " 'RFD->PIE',\n",
       " 'LAX->PVU',\n",
       " 'SFB->DSM',\n",
       " 'PGD->ABE',\n",
       " 'AZA->RFD',\n",
       " 'AZA->ICT',\n",
       " 'SFB->SGF',\n",
       " 'OKC->SFB',\n",
       " 'LAX->HNL',\n",
       " 'LAS->SMX',\n",
       " 'FAT->LAS',\n",
       " 'AZA->PVU',\n",
       " 'TOL->SFB',\n",
       " 'SFB->AVL',\n",
       " 'MYR->HTS',\n",
       " 'AZA->GRI',\n",
       " 'BZN->LAS',\n",
       " 'AZA->GRR',\n",
       " 'ELM->PIE',\n",
       " 'SFB->AVP',\n",
       " 'OAK->PVU',\n",
       " 'PIE->DSM',\n",
       " 'ABE->PGD',\n",
       " 'IAG->SFB',\n",
       " 'RNO->LAS',\n",
       " 'GTF->LAS',\n",
       " 'FCA->LAS',\n",
       " 'CID->AZA',\n",
       " 'LAS->MFR',\n",
       " 'FAR->AZA',\n",
       " 'LRD->LAS',\n",
       " 'ICT->LAS',\n",
       " 'PIE->HTS',\n",
       " 'LAS->MFE',\n",
       " 'SFB->CHA',\n",
       " 'SFB->OWB',\n",
       " 'CHA->PIE',\n",
       " 'OAK->BLI',\n",
       " 'SFB->SPI',\n",
       " 'HTS->PIE',\n",
       " 'FLL->GSP',\n",
       " 'SBN->LAS',\n",
       " 'LAS->EUG',\n",
       " 'LIT->SFB',\n",
       " 'RFD->PGD',\n",
       " 'PGD->PIA',\n",
       " 'LAS->SBN',\n",
       " 'GFK->SFB',\n",
       " 'GTF->AZA',\n",
       " 'PIE->SBN',\n",
       " 'SFB->LCK',\n",
       " 'PVU->OAK',\n",
       " 'FWA->PIE',\n",
       " 'FSD->SFB',\n",
       " 'AZA->SBN',\n",
       " 'GRR->LAS',\n",
       " 'SCK->LAS',\n",
       " 'GRR->PIE',\n",
       " 'LAS->AUS']"
      ]
     },
     "execution_count": 94,
     "metadata": {},
     "output_type": "execute_result"
    }
   ],
   "source": [
    "list(G['G4'])"
   ]
  },
  {
   "cell_type": "markdown",
   "metadata": {},
   "source": [
    "We can also find the airline with the most routes, and the route with the most options:"
   ]
  },
  {
   "cell_type": "code",
   "execution_count": 95,
   "metadata": {
    "collapsed": true
   },
   "outputs": [],
   "source": [
    "def most_neighbors(G, node_type):\n",
    "    node_list = []\n",
    "    for n in G.nodes():\n",
    "        if G.node[n]['node_type'] == node_type:\n",
    "            node_list.append(n)\n",
    "            \n",
    "    largest_found = {\n",
    "        'num_of_neighbors': -1,\n",
    "        'key': \"\"\n",
    "    }\n",
    "    for node in node_list:\n",
    "        if len(G[node]) > largest_found['num_of_neighbors']:\n",
    "            largest_found = {'num_of_neighbors': len(G[node]), 'key': node}\n",
    "\n",
    "    return largest_found"
   ]
  },
  {
   "cell_type": "markdown",
   "metadata": {},
   "source": [
    "We see that American Airlines has the most routes of my any US carrier wtih 2354 routes."
   ]
  },
  {
   "cell_type": "code",
   "execution_count": 83,
   "metadata": {},
   "outputs": [
    {
     "data": {
      "text/plain": [
       "{'key': 'AA', 'num_of_neighbors': 2354}"
      ]
     },
     "execution_count": 83,
     "metadata": {},
     "output_type": "execute_result"
    }
   ],
   "source": [
    "most_neighbors(G, 'airline')"
   ]
  },
  {
   "cell_type": "markdown",
   "metadata": {},
   "source": [
    "And we see that the route with the most options is from Los Angeles to Las Vegas with nine flight options:"
   ]
  },
  {
   "cell_type": "code",
   "execution_count": 86,
   "metadata": {},
   "outputs": [
    {
     "data": {
      "text/plain": [
       "{'key': 'LAS->LAX', 'num_of_neighbors': 9}"
      ]
     },
     "execution_count": 86,
     "metadata": {},
     "output_type": "execute_result"
    }
   ],
   "source": [
    "most_options_route = most_neighbors(G, 'route')\n",
    "most_options_route"
   ]
  },
  {
   "cell_type": "markdown",
   "metadata": {},
   "source": [
    "We can access our bipartite graph again to find out what those airlines are:"
   ]
  },
  {
   "cell_type": "code",
   "execution_count": 87,
   "metadata": {},
   "outputs": [
    {
     "data": {
      "text/plain": [
       "['American Airlines',\n",
       " 'Delta Air Lines',\n",
       " 'Spirit Airlines',\n",
       " 'United Airlines',\n",
       " 'Boutique Air (Priv)',\n",
       " 'US Airways',\n",
       " 'Southwest Airlines',\n",
       " 'Virgin America',\n",
       " 'AirTran Airways']"
      ]
     },
     "execution_count": 87,
     "metadata": {},
     "output_type": "execute_result"
    }
   ],
   "source": [
    "[us_carriers[iata]['name'] for iata in list(G[most_options_route['key']])]"
   ]
  },
  {
   "cell_type": "markdown",
   "metadata": {},
   "source": [
    "## Bipartite of Weighted Routes\n",
    "\n",
    "For this part, we will calculate the distances for all the routes that US carriers fly."
   ]
  },
  {
   "cell_type": "code",
   "execution_count": 96,
   "metadata": {
    "collapsed": true
   },
   "outputs": [],
   "source": [
    "def filter_nodes_by_type(G, node_type):\n",
    "    node_list = []\n",
    "    for n in G.nodes():\n",
    "        if G.node[n]['node_type'] == node_type:\n",
    "            node_list.append(n)\n",
    "        \n",
    "    return node_list"
   ]
  },
  {
   "cell_type": "code",
   "execution_count": 156,
   "metadata": {},
   "outputs": [
    {
     "data": {
      "image/png": "[encoded data removed]",
      "text/plain": [
       "<matplotlib.figure.Figure at 0xa079588>"
      ]
     },
     "metadata": {},
     "output_type": "display_data"
    }
   ],
   "source": [
    "all_routes = filter_nodes_by_type(G, 'route')\n",
    "\n",
    "W = nx.Graph()\n",
    "for route in all_routes:\n",
    "    source_iata, dest_iata = route.split(\"->\", 1)\n",
    "    \n",
    "    #Calculate great circle distance between two airports:\n",
    "    #the try is in here because some airports do not exist in the datbase.\n",
    "\n",
    "    source_geo= (itemgetter('lat', 'lon')(airport_map[source_iata]))\n",
    "    dest_geo= (itemgetter('lat', 'lon')(airport_map[dest_iata]))\n",
    "\n",
    "    distance = geo.great_circle(source_geo, dest_geo).miles\n",
    "\n",
    "    #add them to the graph with weight:\n",
    "    W.add_node(source_iata, node_type='source')\n",
    "    W.add_node(dest_iata, node_type='destination')\n",
    "    W.add_edge(source_iata,dest_iata,weight=distance)\n",
    "\n",
    "    \n",
    "show_graph(W)"
   ]
  },
  {
   "cell_type": "markdown",
   "metadata": {},
   "source": [
    "We can now use this information to find out types of analytics such as shortest flight and longest flight flown by a carrier:"
   ]
  },
  {
   "cell_type": "code",
   "execution_count": 158,
   "metadata": {},
   "outputs": [],
   "source": [
    "sorted_by_distance = sorted(W.edges(data=True), key=lambda (source,target,data): data['weight'])"
   ]
  },
  {
   "cell_type": "code",
   "execution_count": 188,
   "metadata": {},
   "outputs": [],
   "source": [
    "def get_route_info(flight):\n",
    "    iata = list(G[flight[1]+\"->\"+flight[0]])[0]\n",
    "    return {\"source_airport\": airport_map[flight[0]]['name'], \\\n",
    "           \"dest_airport\": airport_map[flight[1]]['name'], \\\n",
    "           \"airline\": us_carriers[iata]['name'],\n",
    "           \"distance\": flight[2]['weight']\n",
    "          }"
   ]
  },
  {
   "cell_type": "markdown",
   "metadata": {},
   "source": [
    "#### Shortest Flight\n",
    "We find that the shortest flight in the US, actually originates and terminates at the same airport:"
   ]
  },
  {
   "cell_type": "code",
   "execution_count": 190,
   "metadata": {},
   "outputs": [
    {
     "name": "stdout",
     "output_type": "stream",
     "text": [
      "{'dest_airport': 'Iskandar Airport', 'source_airport': 'Iskandar Airport', 'airline': 'Fly Illi', 'distance': 0.0}\n"
     ]
    }
   ],
   "source": [
    "print get_route_info(sorted_by_distance[0])"
   ]
  },
  {
   "cell_type": "markdown",
   "metadata": {},
   "source": [
    "To find the first flight that actually goes to a different destination than its source airprot, we look at the second shortest flight in the United States in terms of Great Circle distance is between the two airports below, with a distance of just 6.4 miles:"
   ]
  },
  {
   "cell_type": "code",
   "execution_count": 191,
   "metadata": {},
   "outputs": [
    {
     "name": "stdout",
     "output_type": "stream",
     "text": [
      "{'dest_airport': 'Tin City Long Range Radar Station Airport', 'source_airport': 'Wales Airport', 'airline': 'Bering Air', 'distance': 6.427715190921275}\n"
     ]
    }
   ],
   "source": [
    "print get_route_info(sorted_by_distance[1])"
   ]
  },
  {
   "cell_type": "markdown",
   "metadata": {},
   "source": [
    "#### Longest Flight\n",
    "Now, we see that the longest direct flight offered by a US carrier is between Dallas and Sydney by American Airlienes with a whopping distance of 8582 miles!"
   ]
  },
  {
   "cell_type": "code",
   "execution_count": 192,
   "metadata": {},
   "outputs": [
    {
     "name": "stdout",
     "output_type": "stream",
     "text": [
      "{'dest_airport': 'Sydney Kingsford Smith International Airport', 'source_airport': 'Dallas Fort Worth International Airport', 'airline': 'American Airlines', 'distance': 8582.421556813271}\n"
     ]
    }
   ],
   "source": [
    "print get_route_info(sorted_by_distance[-1])"
   ]
  }
 ],
 "metadata": {
  "kernelspec": {
   "display_name": "Python 2",
   "language": "python",
   "name": "python2"
  },
  "language_info": {
   "codemirror_mode": {
    "name": "ipython",
    "version": 2
   },
   "file_extension": ".py",
   "mimetype": "text/x-python",
   "name": "python",
   "nbconvert_exporter": "python",
   "pygments_lexer": "ipython2",
   "version": "2.7.13"
  }
 },
 "nbformat": 4,
 "nbformat_minor": 2
}
